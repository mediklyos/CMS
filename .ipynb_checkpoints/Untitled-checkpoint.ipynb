{
 "cells": [
  {
   "cell_type": "markdown",
   "metadata": {},
   "source": [
    "# Centers for Medicaid and Medicare Services Claims Analysis"
   ]
  },
  {
   "cell_type": "code",
   "execution_count": 1,
   "metadata": {
    "collapsed": true
   },
   "outputs": [],
   "source": [
    "# Import graphlab\n",
    "\n",
    "import graphlab\n",
    "import graphlab.aggregate as agg"
   ]
  },
  {
   "cell_type": "code",
   "execution_count": 2,
   "metadata": {
    "collapsed": false
   },
   "outputs": [
    {
     "name": "stderr",
     "output_type": "stream",
     "text": [
      "[INFO] \u001b[1;32m1451762515 : INFO:     (initialize_globals_from_environment:282): Setting configuration variable GRAPHLAB_FILEIO_ALTERNATIVE_SSL_CERT_FILE to /usr/local/lib/python2.7/dist-packages/certifi/cacert.pem\n",
      "\u001b[0m\u001b[1;32m1451762515 : INFO:     (initialize_globals_from_environment:282): Setting configuration variable GRAPHLAB_FILEIO_ALTERNATIVE_SSL_CERT_DIR to \n",
      "\u001b[0mThis non-commercial license of GraphLab Create is assigned to bernauer@salud.unm.edu and will expire on November 16, 2016. For commercial licensing options, visit https://dato.com/buy/.\n",
      "\n",
      "[INFO] Start server at: ipc:///tmp/graphlab_server-22594 - Server binary: /usr/local/lib/python2.7/dist-packages/graphlab/unity_server - Server log: /tmp/graphlab_server_1451762515.log\n",
      "[INFO] GraphLab Server Version: 1.7.1\n"
     ]
    }
   ],
   "source": [
    "# Load data\n",
    "cms = graphlab.SFrame(\"cms.gl/\")"
   ]
  },
  {
   "cell_type": "code",
   "execution_count": 4,
   "metadata": {
    "collapsed": false
   },
   "outputs": [
    {
     "data": {
      "text/plain": [
       "['NPI',\n",
       " 'NPPES_PROVIDER_LAST_ORG_NAME',\n",
       " 'NPPES_PROVIDER_FIRST_NAME',\n",
       " 'NPPES_PROVIDER_CITY',\n",
       " 'NPPES_PROVIDER_STATE',\n",
       " 'SPECIALTY_DESC',\n",
       " 'DESCRIPTION_FLAG',\n",
       " 'DRUG_NAME',\n",
       " 'GENERIC_NAME',\n",
       " 'BENE_COUNT',\n",
       " 'TOTAL_CLAIM_COUNT',\n",
       " 'TOTAL_DAY_SUPPLY',\n",
       " 'TOTAL_DRUG_COST',\n",
       " 'BENE_COUNT_GE65',\n",
       " 'BENE_COUNT_GE65_REDACT_FLAG',\n",
       " 'TOTAL_CLAIM_COUNT_GE65',\n",
       " 'GE65_REDACT_FLAG',\n",
       " 'TOTAL_DAY_SUPPLY_GE65',\n",
       " 'TOTAL_DRUG_COST_GE65']"
      ]
     },
     "execution_count": 4,
     "metadata": {},
     "output_type": "execute_result"
    }
   ],
   "source": [
    "cms.column_names()"
   ]
  },
  {
   "cell_type": "markdown",
   "metadata": {},
   "source": [
    "## Drugs by number of claims"
   ]
  },
  {
   "cell_type": "code",
   "execution_count": 5,
   "metadata": {
    "collapsed": true
   },
   "outputs": [],
   "source": [
    "# Aggregate total-claims, total-beneficiaries, total-cost for all drugs in dataset\n",
    "cms_agg = cms.groupby(key_columns=['DRUG_NAME'], operations={'claims':agg.SUM('TOTAL_CLAIM_COUNT'),\n",
    "                                                            'bene':agg.SUM('BENE_COUNT'),\n",
    "                                                            'cost':agg.SUM('TOTAL_DRUG_COST')})"
   ]
  },
  {
   "cell_type": "code",
   "execution_count": 37,
   "metadata": {
    "collapsed": false
   },
   "outputs": [
    {
     "data": {
      "text/html": [
       "<div style=\"max-height:1000px;max-width:1500px;overflow:auto;\"><table frame=\"box\" rules=\"cols\">\n",
       "    <tr>\n",
       "        <th style=\"padding-left: 1em; padding-right: 1em; text-align: center\">DRUG_NAME</th>\n",
       "        <th style=\"padding-left: 1em; padding-right: 1em; text-align: center\">claims</th>\n",
       "        <th style=\"padding-left: 1em; padding-right: 1em; text-align: center\">cost</th>\n",
       "        <th style=\"padding-left: 1em; padding-right: 1em; text-align: center\">bene</th>\n",
       "        <th style=\"padding-left: 1em; padding-right: 1em; text-align: center\">claim-per-bene</th>\n",
       "        <th style=\"padding-left: 1em; padding-right: 1em; text-align: center\">cost-per-bene</th>\n",
       "    </tr>\n",
       "    <tr>\n",
       "        <td style=\"padding-left: 1em; padding-right: 1em; text-align: center; vertical-align: top\">LISINOPRIL</td>\n",
       "        <td style=\"padding-left: 1em; padding-right: 1em; text-align: center; vertical-align: top\">36206291</td>\n",
       "        <td style=\"padding-left: 1em; padding-right: 1em; text-align: center; vertical-align: top\">302019576.45</td>\n",
       "        <td style=\"padding-left: 1em; padding-right: 1em; text-align: center; vertical-align: top\">8096678</td>\n",
       "        <td style=\"padding-left: 1em; padding-right: 1em; text-align: center; vertical-align: top\">4.47174643724</td>\n",
       "        <td style=\"padding-left: 1em; padding-right: 1em; text-align: center; vertical-align: top\">37.3016657511</td>\n",
       "    </tr>\n",
       "    <tr>\n",
       "        <td style=\"padding-left: 1em; padding-right: 1em; text-align: center; vertical-align: top\">SIMVASTATIN</td>\n",
       "        <td style=\"padding-left: 1em; padding-right: 1em; text-align: center; vertical-align: top\">36175328</td>\n",
       "        <td style=\"padding-left: 1em; padding-right: 1em; text-align: center; vertical-align: top\">427240348.9</td>\n",
       "        <td style=\"padding-left: 1em; padding-right: 1em; text-align: center; vertical-align: top\">7810370</td>\n",
       "        <td style=\"padding-left: 1em; padding-right: 1em; text-align: center; vertical-align: top\">4.63170477199</td>\n",
       "        <td style=\"padding-left: 1em; padding-right: 1em; text-align: center; vertical-align: top\">54.7016785248</td>\n",
       "    </tr>\n",
       "    <tr>\n",
       "        <td style=\"padding-left: 1em; padding-right: 1em; text-align: center; vertical-align: top\">LEVOTHYROXINE SODIUM</td>\n",
       "        <td style=\"padding-left: 1em; padding-right: 1em; text-align: center; vertical-align: top\">34546833</td>\n",
       "        <td style=\"padding-left: 1em; padding-right: 1em; text-align: center; vertical-align: top\">389054553.37</td>\n",
       "        <td style=\"padding-left: 1em; padding-right: 1em; text-align: center; vertical-align: top\">6570208</td>\n",
       "        <td style=\"padding-left: 1em; padding-right: 1em; text-align: center; vertical-align: top\">5.25810339642</td>\n",
       "        <td style=\"padding-left: 1em; padding-right: 1em; text-align: center; vertical-align: top\">59.2149523074</td>\n",
       "    </tr>\n",
       "    <tr>\n",
       "        <td style=\"padding-left: 1em; padding-right: 1em; text-align: center; vertical-align: top\">AMLODIPINE BESYLATE</td>\n",
       "        <td style=\"padding-left: 1em; padding-right: 1em; text-align: center; vertical-align: top\">33923856</td>\n",
       "        <td style=\"padding-left: 1em; padding-right: 1em; text-align: center; vertical-align: top\">337070649.79</td>\n",
       "        <td style=\"padding-left: 1em; padding-right: 1em; text-align: center; vertical-align: top\">7048170</td>\n",
       "        <td style=\"padding-left: 1em; padding-right: 1em; text-align: center; vertical-align: top\">4.81314383734</td>\n",
       "        <td style=\"padding-left: 1em; padding-right: 1em; text-align: center; vertical-align: top\">47.8238535379</td>\n",
       "    </tr>\n",
       "    <tr>\n",
       "        <td style=\"padding-left: 1em; padding-right: 1em; text-align: center; vertical-align: top\">HYDROCODONE-ACETAMINOPHEN</td>\n",
       "        <td style=\"padding-left: 1em; padding-right: 1em; text-align: center; vertical-align: top\">33492392</td>\n",
       "        <td style=\"padding-left: 1em; padding-right: 1em; text-align: center; vertical-align: top\">554669704.17</td>\n",
       "        <td style=\"padding-left: 1em; padding-right: 1em; text-align: center; vertical-align: top\">10840998</td>\n",
       "        <td style=\"padding-left: 1em; padding-right: 1em; text-align: center; vertical-align: top\">3.08941962723</td>\n",
       "        <td style=\"padding-left: 1em; padding-right: 1em; text-align: center; vertical-align: top\">51.1640814038</td>\n",
       "    </tr>\n",
       "</table>\n",
       "[5 rows x 6 columns]<br/>\n",
       "</div>"
      ],
      "text/plain": [
       "Columns:\n",
       "\tDRUG_NAME\tstr\n",
       "\tclaims\tint\n",
       "\tcost\tfloat\n",
       "\tbene\tint\n",
       "\tclaim-per-bene\tfloat\n",
       "\tcost-per-bene\tfloat\n",
       "\n",
       "Rows: 5\n",
       "\n",
       "Data:\n",
       "+---------------------------+----------+--------------+----------+----------------+\n",
       "|         DRUG_NAME         |  claims  |     cost     |   bene   | claim-per-bene |\n",
       "+---------------------------+----------+--------------+----------+----------------+\n",
       "|         LISINOPRIL        | 36206291 | 302019576.45 | 8096678  | 4.47174643724  |\n",
       "|        SIMVASTATIN        | 36175328 | 427240348.9  | 7810370  | 4.63170477199  |\n",
       "|    LEVOTHYROXINE SODIUM   | 34546833 | 389054553.37 | 6570208  | 5.25810339642  |\n",
       "|    AMLODIPINE BESYLATE    | 33923856 | 337070649.79 | 7048170  | 4.81314383734  |\n",
       "| HYDROCODONE-ACETAMINOPHEN | 33492392 | 554669704.17 | 10840998 | 3.08941962723  |\n",
       "+---------------------------+----------+--------------+----------+----------------+\n",
       "+---------------+\n",
       "| cost-per-bene |\n",
       "+---------------+\n",
       "| 37.3016657511 |\n",
       "| 54.7016785248 |\n",
       "| 59.2149523074 |\n",
       "| 47.8238535379 |\n",
       "| 51.1640814038 |\n",
       "+---------------+\n",
       "[5 rows x 6 columns]"
      ]
     },
     "execution_count": 37,
     "metadata": {},
     "output_type": "execute_result"
    }
   ],
   "source": [
    "# Identify the top 5 drugs by number of claims\n",
    "drugs_by_claim = cms_agg.topk('claims', 5)\n",
    "drugs_by_claim['claim-per-bene'] = drugs_by_claim['claims'] / drugs_by_claim['bene']\n",
    "drugs_by_claim['cost-per-bene'] = drugs_by_claim['cost'] / drugs_by_claim['bene']\n",
    "drugs_by_claim"
   ]
  },
  {
   "cell_type": "code",
   "execution_count": 43,
   "metadata": {
    "collapsed": false
   },
   "outputs": [
    {
     "name": "stdout",
     "output_type": "stream",
     "text": [
      "Total claims for top 5 most popular drugs:  174344700\n",
      "Total bene for top 5 most popular drugs:  40366424\n",
      "Average number of claim per bene top 5 popular drugs:  4.32\n"
     ]
    }
   ],
   "source": [
    "# Total number of claims for the top 5 drugs by claims\n",
    "claims_top_5 = cms_agg.topk('claims', 5)['claims'].sum()\n",
    "bene_top_5 = cms_agg.topk('claims', 5)['bene'].sum()\n",
    "avg_claim_per_bene = claims_top_5/float(bene_top_5)\n",
    "print \"Total claims for top 5 most popular drugs: \", claims_top_5\n",
    "print \"Total bene for top 5 most popular drugs: \", bene_top_5\n",
    "print \"Average number of claim per bene top 5 popular drugs: \", round(avg_claim_per_bene,2)\n"
   ]
  },
  {
   "cell_type": "code",
   "execution_count": 30,
   "metadata": {
    "collapsed": false
   },
   "outputs": [
    {
     "name": "stdout",
     "output_type": "stream",
     "text": [
      "Percent of total claims represented by top 5 most popular drugs:  14.67\n"
     ]
    }
   ],
   "source": [
    "# What is the percent of total claims for the top 5 drugs by claim\n",
    "print \"Percent of total claims represented by top 5 most popular drugs: \", round(claims_top_5 / float(cms_agg['claims'].sum()) * 100,2)"
   ]
  },
  {
   "cell_type": "code",
   "execution_count": 28,
   "metadata": {
    "collapsed": false
   },
   "outputs": [
    {
     "name": "stdout",
     "output_type": "stream",
     "text": [
      "Percentage of cost contribted by top-5 most popular drugs:  2.48\n"
     ]
    }
   ],
   "source": [
    "# What percent of cost do top-5 most popular drugs contribute\n",
    "print \"Percentage of cost contribted by top-5 most popular drugs: \", round(cms_agg.topk('claims',5)['cost'].sum()/float(cms_agg['cost'].sum())*100,2)"
   ]
  },
  {
   "cell_type": "markdown",
   "metadata": {},
   "source": [
    "## Drugs by total cost"
   ]
  },
  {
   "cell_type": "code",
   "execution_count": 42,
   "metadata": {
    "collapsed": false
   },
   "outputs": [
    {
     "name": "stdout",
     "output_type": "stream",
     "text": [
      "Total Medicare Part D cost:  80941760813.7\n"
     ]
    }
   ],
   "source": [
    "# Total Medicare Part D Cost\n",
    "print \"Total Medicare Part D cost: \", cms_agg['cost'].sum()"
   ]
  },
  {
   "cell_type": "code",
   "execution_count": 17,
   "metadata": {
    "collapsed": false
   },
   "outputs": [
    {
     "data": {
      "text/html": [
       "<div style=\"max-height:1000px;max-width:1500px;overflow:auto;\"><table frame=\"box\" rules=\"cols\">\n",
       "    <tr>\n",
       "        <th style=\"padding-left: 1em; padding-right: 1em; text-align: center\">DRUG_NAME</th>\n",
       "        <th style=\"padding-left: 1em; padding-right: 1em; text-align: center\">claims</th>\n",
       "        <th style=\"padding-left: 1em; padding-right: 1em; text-align: center\">cost</th>\n",
       "        <th style=\"padding-left: 1em; padding-right: 1em; text-align: center\">bene</th>\n",
       "    </tr>\n",
       "    <tr>\n",
       "        <td style=\"padding-left: 1em; padding-right: 1em; text-align: center; vertical-align: top\">NEXIUM</td>\n",
       "        <td style=\"padding-left: 1em; padding-right: 1em; text-align: center; vertical-align: top\">7622616</td>\n",
       "        <td style=\"padding-left: 1em; padding-right: 1em; text-align: center; vertical-align: top\">2320290926.99</td>\n",
       "        <td style=\"padding-left: 1em; padding-right: 1em; text-align: center; vertical-align: top\">1060846</td>\n",
       "    </tr>\n",
       "    <tr>\n",
       "        <td style=\"padding-left: 1em; padding-right: 1em; text-align: center; vertical-align: top\">CRESTOR</td>\n",
       "        <td style=\"padding-left: 1em; padding-right: 1em; text-align: center; vertical-align: top\">8602219</td>\n",
       "        <td style=\"padding-left: 1em; padding-right: 1em; text-align: center; vertical-align: top\">2089238350.21</td>\n",
       "        <td style=\"padding-left: 1em; padding-right: 1em; text-align: center; vertical-align: top\">1405895</td>\n",
       "    </tr>\n",
       "    <tr>\n",
       "        <td style=\"padding-left: 1em; padding-right: 1em; text-align: center; vertical-align: top\">ADVAIR DISKUS</td>\n",
       "        <td style=\"padding-left: 1em; padding-right: 1em; text-align: center; vertical-align: top\">6050345</td>\n",
       "        <td style=\"padding-left: 1em; padding-right: 1em; text-align: center; vertical-align: top\">2069281701.76</td>\n",
       "        <td style=\"padding-left: 1em; padding-right: 1em; text-align: center; vertical-align: top\">1071364</td>\n",
       "    </tr>\n",
       "    <tr>\n",
       "        <td style=\"padding-left: 1em; padding-right: 1em; text-align: center; vertical-align: top\">ABILIFY</td>\n",
       "        <td style=\"padding-left: 1em; padding-right: 1em; text-align: center; vertical-align: top\">2612198</td>\n",
       "        <td style=\"padding-left: 1em; padding-right: 1em; text-align: center; vertical-align: top\">1878588439.84</td>\n",
       "        <td style=\"padding-left: 1em; padding-right: 1em; text-align: center; vertical-align: top\">282963</td>\n",
       "    </tr>\n",
       "    <tr>\n",
       "        <td style=\"padding-left: 1em; padding-right: 1em; text-align: center; vertical-align: top\">SPIRIVA</td>\n",
       "        <td style=\"padding-left: 1em; padding-right: 1em; text-align: center; vertical-align: top\">5237141</td>\n",
       "        <td style=\"padding-left: 1em; padding-right: 1em; text-align: center; vertical-align: top\">1778776055.02</td>\n",
       "        <td style=\"padding-left: 1em; padding-right: 1em; text-align: center; vertical-align: top\">775823</td>\n",
       "    </tr>\n",
       "</table>\n",
       "[5 rows x 4 columns]<br/>\n",
       "</div>"
      ],
      "text/plain": [
       "Columns:\n",
       "\tDRUG_NAME\tstr\n",
       "\tclaims\tint\n",
       "\tcost\tfloat\n",
       "\tbene\tint\n",
       "\n",
       "Rows: 5\n",
       "\n",
       "Data:\n",
       "+---------------+---------+---------------+---------+\n",
       "|   DRUG_NAME   |  claims |      cost     |   bene  |\n",
       "+---------------+---------+---------------+---------+\n",
       "|     NEXIUM    | 7622616 | 2320290926.99 | 1060846 |\n",
       "|    CRESTOR    | 8602219 | 2089238350.21 | 1405895 |\n",
       "| ADVAIR DISKUS | 6050345 | 2069281701.76 | 1071364 |\n",
       "|    ABILIFY    | 2612198 | 1878588439.84 |  282963 |\n",
       "|    SPIRIVA    | 5237141 | 1778776055.02 |  775823 |\n",
       "+---------------+---------+---------------+---------+\n",
       "[5 rows x 4 columns]"
      ]
     },
     "execution_count": 17,
     "metadata": {},
     "output_type": "execute_result"
    }
   ],
   "source": [
    "# Identify the top 5 drugs by total cost\n",
    "cms_agg.topk('cost', 5)"
   ]
  },
  {
   "cell_type": "code",
   "execution_count": 32,
   "metadata": {
    "collapsed": false
   },
   "outputs": [
    {
     "name": "stdout",
     "output_type": "stream",
     "text": [
      "Total cost for top 5 most expensive drugs:  10136175473.8\n",
      "Total benes for top 5 most expensive drugs:  4596891\n",
      "Cost per bene for top 5:  2205.00670427\n"
     ]
    }
   ],
   "source": [
    "# Total cost for the top 5 drugs\n",
    "tot_cost = cms_agg.topk('cost', 5)['cost'].sum()\n",
    "tot_bene = cms_agg.topk('cost',5)['bene'].sum()\n",
    "cost_per_bene = tot_cost/float(tot_bene)\n",
    "print \"Total cost for top 5 most expensive drugs: \", tot_cost\n",
    "print \"Total benes for top 5 most expensive drugs: \", tot_bene\n",
    "print \"Cost per bene for top 5: \", cost_per_bene"
   ]
  },
  {
   "cell_type": "code",
   "execution_count": 33,
   "metadata": {
    "collapsed": false
   },
   "outputs": [
    {
     "name": "stdout",
     "output_type": "stream",
     "text": [
      "Percent of total cost represented by top 5 most expensive drugs:  12.52\n"
     ]
    }
   ],
   "source": [
    "# What is the percent of total cost contributed by the top 5 most expensive drugs\n",
    "print \"Percent of total cost represented by top 5 most expensive drugs: \", round(tot_cost / float(cms_agg['cost'].sum())*100,2)"
   ]
  },
  {
   "cell_type": "code",
   "execution_count": null,
   "metadata": {
    "collapsed": true
   },
   "outputs": [],
   "source": [
    "# "
   ]
  }
 ],
 "metadata": {
  "kernelspec": {
   "display_name": "Python 2",
   "language": "python",
   "name": "python2"
  },
  "language_info": {
   "codemirror_mode": {
    "name": "ipython",
    "version": 2
   },
   "file_extension": ".py",
   "mimetype": "text/x-python",
   "name": "python",
   "nbconvert_exporter": "python",
   "pygments_lexer": "ipython2",
   "version": "2.7.6"
  }
 },
 "nbformat": 4,
 "nbformat_minor": 0
}
